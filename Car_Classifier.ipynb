{
 "cells": [
  {
   "cell_type": "code",
   "execution_count": 1,
   "id": "ee0ad43c",
   "metadata": {},
   "outputs": [],
   "source": [
    "from fastai.vision.all import *\n",
    "from fastai.vision.widgets import *"
   ]
  },
  {
   "cell_type": "code",
   "execution_count": null,
   "id": "ca722e0c",
   "metadata": {},
   "outputs": [],
   "source": [
    "!pip install voila\n",
    "!jupyter serverextension enable --sys-prefix voila"
   ]
  },
  {
   "cell_type": "code",
   "execution_count": 2,
   "id": "84405307",
   "metadata": {},
   "outputs": [],
   "source": [
    "path = Path()\n",
    "learn_inf = load_learner(path/'export.pkl', cpu=True)"
   ]
  },
  {
   "cell_type": "code",
   "execution_count": 3,
   "id": "c3fc43b4",
   "metadata": {},
   "outputs": [],
   "source": [
    "button_upload = widgets.FileUpload()\n",
    "prediction_output = widgets.Output()\n",
    "prediction_label = widgets.Label()"
   ]
  },
  {
   "cell_type": "code",
   "execution_count": 4,
   "id": "bd291714",
   "metadata": {},
   "outputs": [],
   "source": [
    "def on_click_classify(change):\n",
    "    #button_upload = SimpleNamespace(data=['0x0.jpg'])\n",
    "    im = PILImage.create(button_upload.data[-1])\n",
    "    prediction_output.clear_output()\n",
    "    with prediction_output: display(im.to_thumb(128,128))\n",
    "    prediction,prediction_index,prob = learn_inf.predict(im)  \n",
    "    prediction_lable.value = f'Car: {prediction};Probablity: {prob[prediction_index]*100:.02f}%'\n",
    "\n",
    "button_upload.observe(on_click_classify,names=['data'])  "
   ]
  },
  {
   "cell_type": "code",
   "execution_count": 5,
   "id": "ca8aeef5",
   "metadata": {},
   "outputs": [
    {
     "data": {
      "application/vnd.jupyter.widget-view+json": {
       "model_id": "0b412bf508c34a31a10f805b7f20673f",
       "version_major": 2,
       "version_minor": 0
      },
      "text/plain": [
       "VBox(children=(Label(value='Select your Car!'), FileUpload(value=(), description='Upload'), Output(), Label(va…"
      ]
     },
     "metadata": {},
     "output_type": "display_data"
    }
   ],
   "source": [
    "display(VBox([widgets.Label('Select your Car!'), button_upload, prediction_output, prediction_label]))"
   ]
  },
  {
   "cell_type": "code",
   "execution_count": null,
   "id": "bd3be799",
   "metadata": {},
   "outputs": [],
   "source": []
  }
 ],
 "metadata": {
  "kernelspec": {
   "display_name": "Python 3 (ipykernel)",
   "language": "python",
   "name": "python3"
  },
  "language_info": {
   "codemirror_mode": {
    "name": "ipython",
    "version": 3
   },
   "file_extension": ".py",
   "mimetype": "text/x-python",
   "name": "python",
   "nbconvert_exporter": "python",
   "pygments_lexer": "ipython3",
   "version": "3.10.10"
  }
 },
 "nbformat": 4,
 "nbformat_minor": 5
}
