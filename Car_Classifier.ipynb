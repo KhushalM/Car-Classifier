{
 "cells": [
  {
   "cell_type": "code",
   "execution_count": 409,
   "id": "ee0ad43c",
   "metadata": {},
   "outputs": [],
   "source": [
    "from fastai.vision.all import *\n",
    "from fastai.vision.widgets import *"
   ]
  },
  {
   "cell_type": "code",
   "execution_count": 422,
   "id": "ca722e0c",
   "metadata": {},
   "outputs": [
    {
     "name": "stdout",
     "output_type": "stream",
     "text": [
      "Requirement already satisfied: voila in /opt/anaconda3/envs/fastai/lib/python3.10/site-packages (0.4.0)\n",
      "Requirement already satisfied: jupyter-core>=4.11.0 in /opt/anaconda3/envs/fastai/lib/python3.10/site-packages (from voila) (5.3.0)\n",
      "Requirement already satisfied: websockets>=9.0 in /opt/anaconda3/envs/fastai/lib/python3.10/site-packages (from voila) (11.0.1)\n",
      "Requirement already satisfied: jupyterlab-server<3,>=2.3.0 in /opt/anaconda3/envs/fastai/lib/python3.10/site-packages (from voila) (2.22.0)\n",
      "Requirement already satisfied: traitlets<6,>=5.0.3 in /opt/anaconda3/envs/fastai/lib/python3.10/site-packages (from voila) (5.7.1)\n",
      "Requirement already satisfied: jupyter-server<2.0.0,>=1.18 in /opt/anaconda3/envs/fastai/lib/python3.10/site-packages (from voila) (1.23.4)\n",
      "Requirement already satisfied: nbconvert<8,>=6.4.5 in /opt/anaconda3/envs/fastai/lib/python3.10/site-packages (from voila) (6.5.4)\n",
      "Requirement already satisfied: nbclient<0.8,>=0.4.0 in /opt/anaconda3/envs/fastai/lib/python3.10/site-packages (from voila) (0.5.13)\n",
      "Requirement already satisfied: jupyter-client<=7.4.1,>=6.1.3 in /opt/anaconda3/envs/fastai/lib/python3.10/site-packages (from voila) (7.4.1)\n",
      "Requirement already satisfied: python-dateutil>=2.8.2 in /opt/anaconda3/envs/fastai/lib/python3.10/site-packages (from jupyter-client<=7.4.1,>=6.1.3->voila) (2.8.2)\n",
      "Requirement already satisfied: nest-asyncio>=1.5.4 in /opt/anaconda3/envs/fastai/lib/python3.10/site-packages (from jupyter-client<=7.4.1,>=6.1.3->voila) (1.5.6)\n",
      "Requirement already satisfied: pyzmq>=23.0 in /opt/anaconda3/envs/fastai/lib/python3.10/site-packages (from jupyter-client<=7.4.1,>=6.1.3->voila) (23.2.0)\n",
      "Requirement already satisfied: tornado>=6.2 in /opt/anaconda3/envs/fastai/lib/python3.10/site-packages (from jupyter-client<=7.4.1,>=6.1.3->voila) (6.2)\n",
      "Requirement already satisfied: entrypoints in /opt/anaconda3/envs/fastai/lib/python3.10/site-packages (from jupyter-client<=7.4.1,>=6.1.3->voila) (0.4)\n",
      "Requirement already satisfied: platformdirs>=2.5 in /opt/anaconda3/envs/fastai/lib/python3.10/site-packages (from jupyter-core>=4.11.0->voila) (2.5.2)\n",
      "Requirement already satisfied: nbformat>=5.2.0 in /opt/anaconda3/envs/fastai/lib/python3.10/site-packages (from jupyter-server<2.0.0,>=1.18->voila) (5.7.0)\n",
      "Requirement already satisfied: packaging in /opt/anaconda3/envs/fastai/lib/python3.10/site-packages (from jupyter-server<2.0.0,>=1.18->voila) (23.0)\n",
      "Requirement already satisfied: argon2-cffi in /opt/anaconda3/envs/fastai/lib/python3.10/site-packages (from jupyter-server<2.0.0,>=1.18->voila) (21.3.0)\n",
      "Requirement already satisfied: Send2Trash in /opt/anaconda3/envs/fastai/lib/python3.10/site-packages (from jupyter-server<2.0.0,>=1.18->voila) (1.8.0)\n",
      "Requirement already satisfied: terminado>=0.8.3 in /opt/anaconda3/envs/fastai/lib/python3.10/site-packages (from jupyter-server<2.0.0,>=1.18->voila) (0.17.1)\n",
      "Requirement already satisfied: websocket-client in /opt/anaconda3/envs/fastai/lib/python3.10/site-packages (from jupyter-server<2.0.0,>=1.18->voila) (0.58.0)\n",
      "Requirement already satisfied: anyio<4,>=3.1.0 in /opt/anaconda3/envs/fastai/lib/python3.10/site-packages (from jupyter-server<2.0.0,>=1.18->voila) (3.5.0)\n",
      "Requirement already satisfied: jinja2 in /opt/anaconda3/envs/fastai/lib/python3.10/site-packages (from jupyter-server<2.0.0,>=1.18->voila) (3.1.2)\n",
      "Requirement already satisfied: prometheus-client in /opt/anaconda3/envs/fastai/lib/python3.10/site-packages (from jupyter-server<2.0.0,>=1.18->voila) (0.14.1)\n",
      "Requirement already satisfied: jsonschema>=4.17.3 in /opt/anaconda3/envs/fastai/lib/python3.10/site-packages (from jupyterlab-server<3,>=2.3.0->voila) (4.17.3)\n",
      "Requirement already satisfied: json5>=0.9.0 in /opt/anaconda3/envs/fastai/lib/python3.10/site-packages (from jupyterlab-server<3,>=2.3.0->voila) (0.9.6)\n",
      "Requirement already satisfied: babel>=2.10 in /opt/anaconda3/envs/fastai/lib/python3.10/site-packages (from jupyterlab-server<3,>=2.3.0->voila) (2.11.0)\n",
      "Requirement already satisfied: requests>=2.28 in /opt/anaconda3/envs/fastai/lib/python3.10/site-packages (from jupyterlab-server<3,>=2.3.0->voila) (2.28.1)\n",
      "Requirement already satisfied: defusedxml in /opt/anaconda3/envs/fastai/lib/python3.10/site-packages (from nbconvert<8,>=6.4.5->voila) (0.7.1)\n",
      "Requirement already satisfied: pygments>=2.4.1 in /opt/anaconda3/envs/fastai/lib/python3.10/site-packages (from nbconvert<8,>=6.4.5->voila) (2.11.2)\n",
      "Requirement already satisfied: mistune<2,>=0.8.1 in /opt/anaconda3/envs/fastai/lib/python3.10/site-packages (from nbconvert<8,>=6.4.5->voila) (0.8.4)\n",
      "Requirement already satisfied: tinycss2 in /opt/anaconda3/envs/fastai/lib/python3.10/site-packages (from nbconvert<8,>=6.4.5->voila) (1.2.1)\n",
      "Requirement already satisfied: bleach in /opt/anaconda3/envs/fastai/lib/python3.10/site-packages (from nbconvert<8,>=6.4.5->voila) (4.1.0)\n",
      "Requirement already satisfied: beautifulsoup4 in /opt/anaconda3/envs/fastai/lib/python3.10/site-packages (from nbconvert<8,>=6.4.5->voila) (4.12.0)\n",
      "Requirement already satisfied: jupyterlab-pygments in /opt/anaconda3/envs/fastai/lib/python3.10/site-packages (from nbconvert<8,>=6.4.5->voila) (0.1.2)\n",
      "Requirement already satisfied: lxml in /opt/anaconda3/envs/fastai/lib/python3.10/site-packages (from nbconvert<8,>=6.4.5->voila) (4.9.1)\n",
      "Requirement already satisfied: pandocfilters>=1.4.1 in /opt/anaconda3/envs/fastai/lib/python3.10/site-packages (from nbconvert<8,>=6.4.5->voila) (1.5.0)\n",
      "Requirement already satisfied: MarkupSafe>=2.0 in /opt/anaconda3/envs/fastai/lib/python3.10/site-packages (from nbconvert<8,>=6.4.5->voila) (2.1.1)\n",
      "Requirement already satisfied: idna>=2.8 in /opt/anaconda3/envs/fastai/lib/python3.10/site-packages (from anyio<4,>=3.1.0->jupyter-server<2.0.0,>=1.18->voila) (3.4)\n",
      "Requirement already satisfied: sniffio>=1.1 in /opt/anaconda3/envs/fastai/lib/python3.10/site-packages (from anyio<4,>=3.1.0->jupyter-server<2.0.0,>=1.18->voila) (1.2.0)\n",
      "Requirement already satisfied: pytz>=2015.7 in /opt/anaconda3/envs/fastai/lib/python3.10/site-packages (from babel>=2.10->jupyterlab-server<3,>=2.3.0->voila) (2022.7)\n",
      "Requirement already satisfied: pyrsistent!=0.17.0,!=0.17.1,!=0.17.2,>=0.14.0 in /opt/anaconda3/envs/fastai/lib/python3.10/site-packages (from jsonschema>=4.17.3->jupyterlab-server<3,>=2.3.0->voila) (0.18.0)\n",
      "Requirement already satisfied: attrs>=17.4.0 in /opt/anaconda3/envs/fastai/lib/python3.10/site-packages (from jsonschema>=4.17.3->jupyterlab-server<3,>=2.3.0->voila) (22.1.0)\n",
      "Requirement already satisfied: fastjsonschema in /opt/anaconda3/envs/fastai/lib/python3.10/site-packages (from nbformat>=5.2.0->jupyter-server<2.0.0,>=1.18->voila) (2.16.2)\n",
      "Requirement already satisfied: six>=1.5 in /opt/anaconda3/envs/fastai/lib/python3.10/site-packages (from python-dateutil>=2.8.2->jupyter-client<=7.4.1,>=6.1.3->voila) (1.16.0)\n",
      "Requirement already satisfied: certifi>=2017.4.17 in /opt/anaconda3/envs/fastai/lib/python3.10/site-packages (from requests>=2.28->jupyterlab-server<3,>=2.3.0->voila) (2022.12.7)\n",
      "Requirement already satisfied: urllib3<1.27,>=1.21.1 in /opt/anaconda3/envs/fastai/lib/python3.10/site-packages (from requests>=2.28->jupyterlab-server<3,>=2.3.0->voila) (1.26.15)\n",
      "Requirement already satisfied: charset-normalizer<3,>=2 in /opt/anaconda3/envs/fastai/lib/python3.10/site-packages (from requests>=2.28->jupyterlab-server<3,>=2.3.0->voila) (2.0.4)\n",
      "Requirement already satisfied: ptyprocess in /opt/anaconda3/envs/fastai/lib/python3.10/site-packages (from terminado>=0.8.3->jupyter-server<2.0.0,>=1.18->voila) (0.7.0)\n",
      "Requirement already satisfied: argon2-cffi-bindings in /opt/anaconda3/envs/fastai/lib/python3.10/site-packages (from argon2-cffi->jupyter-server<2.0.0,>=1.18->voila) (21.2.0)\n",
      "Requirement already satisfied: soupsieve>1.2 in /opt/anaconda3/envs/fastai/lib/python3.10/site-packages (from beautifulsoup4->nbconvert<8,>=6.4.5->voila) (2.4)\n",
      "Requirement already satisfied: webencodings in /opt/anaconda3/envs/fastai/lib/python3.10/site-packages (from bleach->nbconvert<8,>=6.4.5->voila) (0.5.1)\n",
      "Requirement already satisfied: cffi>=1.0.1 in /opt/anaconda3/envs/fastai/lib/python3.10/site-packages (from argon2-cffi-bindings->argon2-cffi->jupyter-server<2.0.0,>=1.18->voila) (1.15.1)\n",
      "Requirement already satisfied: pycparser in /opt/anaconda3/envs/fastai/lib/python3.10/site-packages (from cffi>=1.0.1->argon2-cffi-bindings->argon2-cffi->jupyter-server<2.0.0,>=1.18->voila) (2.21)\n"
     ]
    },
    {
     "name": "stdout",
     "output_type": "stream",
     "text": [
      "Enabling: voila\n",
      "- Writing config: /Users/khushal/.jupyter\n",
      "    - Validating...\n",
      "      voila 0.4.0 \u001b[32mOK\u001b[0m\n"
     ]
    }
   ],
   "source": [
    "!pip install voila\n",
    "!jupyter serverextension enable voila"
   ]
  },
  {
   "cell_type": "code",
   "execution_count": 423,
   "id": "84405307",
   "metadata": {},
   "outputs": [],
   "source": [
    "path = Path()\n",
    "learn_inf = load_learner(path/'export.pkl', cpu=True)"
   ]
  },
  {
   "cell_type": "code",
   "execution_count": 424,
   "id": "c3fc43b4",
   "metadata": {},
   "outputs": [],
   "source": [
    "button_upload = widgets.FileUpload()\n",
    "prediction_output = widgets.Output()\n",
    "prediction_label = widgets.Label()\n",
    "button_run = widgets.Button(description='Classify')"
   ]
  },
  {
   "cell_type": "code",
   "execution_count": 425,
   "id": "bd291714",
   "metadata": {},
   "outputs": [],
   "source": [
    "def show_it(inputs):\n",
    "    with prediction_output:\n",
    "        prediction_output.clear_output()\n",
    "        display(((inputs['new'])[-1]))\n",
    "        file = ((inputs['new'])[-1]).name\n",
    "        button_upload = SimpleNamespace(data=[file])\n",
    "        im = PILImage.create(button_upload.data[-1])\n",
    "        prediction_output.clear_output()\n",
    "        with prediction_output: display(im.to_thumb(128,128))\n",
    "        prediction,prediction_index,prob = learn_inf.predict(im)  \n",
    "        prediction_label.value = f'Car: {prediction};Probablity: {prob[prediction_index]*100:.02f}%'\n",
    "        \n",
    "button_upload.observe(show_it, names='value')"
   ]
  },
  {
   "cell_type": "code",
   "execution_count": 426,
   "id": "ca8aeef5",
   "metadata": {},
   "outputs": [
    {
     "data": {
      "application/vnd.jupyter.widget-view+json": {
       "model_id": "103b20d569d2482ba65462480feb86c5",
       "version_major": 2,
       "version_minor": 0
      },
      "text/plain": [
       "VBox(children=(Label(value='Select your Car!'), FileUpload(value=(), description='Upload'), Button(description…"
      ]
     },
     "metadata": {},
     "output_type": "display_data"
    }
   ],
   "source": [
    "display(VBox([widgets.Label('Select your Car!'), button_upload,button_run, prediction_output, prediction_label]))"
   ]
  },
  {
   "cell_type": "code",
   "execution_count": 427,
   "id": "318a49a9",
   "metadata": {},
   "outputs": [
    {
     "data": {
      "application/vnd.jupyter.widget-view+json": {
       "model_id": "3ac65d2e005e48e9af480b5cd7a0bf94",
       "version_major": 2,
       "version_minor": 0
      },
      "text/plain": [
       "FloatSlider(value=0.0, max=1.0)"
      ]
     },
     "execution_count": 427,
     "metadata": {},
     "output_type": "execute_result"
    }
   ],
   "source": [
    "slider = widgets.FloatSlider(value=0, min=0, max=1, step=0.1)\n",
    "\n",
    "def on_value_change(change):\n",
    "    new_value = change['new']\n",
    "    print(f\"The slider value changed to {new_value}\")\n",
    "\n",
    "slider.observe(on_value_change, names='value')\n",
    "slider"
   ]
  },
  {
   "cell_type": "code",
   "execution_count": null,
   "id": "8b7a275e",
   "metadata": {},
   "outputs": [],
   "source": []
  }
 ],
 "metadata": {
  "kernelspec": {
   "display_name": "Python 3 (ipykernel)",
   "language": "python",
   "name": "python3"
  },
  "language_info": {
   "codemirror_mode": {
    "name": "ipython",
    "version": 3
   },
   "file_extension": ".py",
   "mimetype": "text/x-python",
   "name": "python",
   "nbconvert_exporter": "python",
   "pygments_lexer": "ipython3",
   "version": "3.10.10"
  }
 },
 "nbformat": 4,
 "nbformat_minor": 5
}
