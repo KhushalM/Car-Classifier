{
 "cells": [
  {
   "cell_type": "code",
   "execution_count": 409,
   "id": "ee0ad43c",
   "metadata": {},
   "outputs": [],
   "source": [
    "from fastai.vision.all import *\n",
    "from fastai.vision.widgets import *"
   ]
  },
  {
   "cell_type": "code",
   "execution_count": null,
   "id": "ca722e0c",
   "metadata": {},
   "outputs": [],
   "source": [
    "!pip install voila\n",
    "!jupyter serverextension enable --sys-prefix voila "
   ]
  },
  {
   "cell_type": "code",
   "execution_count": 410,
   "id": "84405307",
   "metadata": {},
   "outputs": [],
   "source": [
    "path = Path()\n",
    "learn_inf = load_learner(path/'export.pkl', cpu=True)"
   ]
  },
  {
   "cell_type": "code",
   "execution_count": 411,
   "id": "c3fc43b4",
   "metadata": {},
   "outputs": [],
   "source": [
    "button_upload = widgets.FileUpload()\n",
    "prediction_output = widgets.Output()\n",
    "prediction_label = widgets.Label()\n",
    "button_run = widgets.Button(description='Classify')"
   ]
  },
  {
   "cell_type": "code",
   "execution_count": 416,
   "id": "bd291714",
   "metadata": {},
   "outputs": [],
   "source": [
    "def show_it(inputs):\n",
    "    with prediction_output:\n",
    "        prediction_output.clear_output()\n",
    "        display(((inputs['new'])[-1]))\n",
    "        file = ((inputs['new'])[-1]).name\n",
    "        button_upload = SimpleNamespace(data=[file])\n",
    "        im = PILImage.create(button_upload.data[-1])\n",
    "        prediction_output.clear_output()\n",
    "        with prediction_output: display(im.to_thumb(128,128))\n",
    "        prediction,prediction_index,prob = learn_inf.predict(im)  \n",
    "        prediction_label.value = f'Car: {prediction};Probablity: {prob[prediction_index]*100:.02f}%'\n",
    "        \n",
    "button_upload.observe(show_it, names='value')"
   ]
  },
  {
   "cell_type": "code",
   "execution_count": 417,
   "id": "ca8aeef5",
   "metadata": {},
   "outputs": [
    {
     "data": {
      "application/vnd.jupyter.widget-view+json": {
       "model_id": "eda8f8a3476844ea9107076f1f054974",
       "version_major": 2,
       "version_minor": 0
      },
      "text/plain": [
       "VBox(children=(Label(value='Select your Car!'), FileUpload(value=({'name': 'de2a0030-7710-11ed-b6d8-f18d587f70…"
      ]
     },
     "metadata": {},
     "output_type": "display_data"
    }
   ],
   "source": [
    "display(VBox([widgets.Label('Select your Car!'), button_upload,button_run, prediction_output, prediction_label]))"
   ]
  },
  {
   "cell_type": "code",
   "execution_count": 392,
   "id": "318a49a9",
   "metadata": {},
   "outputs": [
    {
     "data": {
      "application/vnd.jupyter.widget-view+json": {
       "model_id": "f0c3ef26850e4182957f3e938ff15c7d",
       "version_major": 2,
       "version_minor": 0
      },
      "text/plain": [
       "FloatSlider(value=0.0, max=1.0)"
      ]
     },
     "execution_count": 392,
     "metadata": {},
     "output_type": "execute_result"
    }
   ],
   "source": [
    "slider = widgets.FloatSlider(value=0, min=0, max=1, step=0.1)\n",
    "\n",
    "def on_value_change(change):\n",
    "    new_value = change['new']\n",
    "    print(f\"The slider value changed to {new_value}\")\n",
    "\n",
    "slider.observe(on_value_change, names='value')\n",
    "slider"
   ]
  },
  {
   "cell_type": "code",
   "execution_count": null,
   "id": "8b7a275e",
   "metadata": {},
   "outputs": [],
   "source": []
  }
 ],
 "metadata": {
  "kernelspec": {
   "display_name": "Python 3 (ipykernel)",
   "language": "python",
   "name": "python3"
  },
  "language_info": {
   "codemirror_mode": {
    "name": "ipython",
    "version": 3
   },
   "file_extension": ".py",
   "mimetype": "text/x-python",
   "name": "python",
   "nbconvert_exporter": "python",
   "pygments_lexer": "ipython3",
   "version": "3.10.10"
  }
 },
 "nbformat": 4,
 "nbformat_minor": 5
}
